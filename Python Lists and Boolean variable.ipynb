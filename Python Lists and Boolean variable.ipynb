{
 "cells": [
  {
   "cell_type": "markdown",
   "id": "27b71c18-7577-4746-8bcf-401002c79713",
   "metadata": {},
   "source": [
    "# Python Data Structure and boolean\n",
    "\n",
    "- Boolean\n",
    "- Boolean and logical operators\n",
    "- Lists\n",
    "- Comparision operators\n",
    "- Dictionaries\n",
    "- Tuples\n",
    "- sets"
   ]
  },
  {
   "cell_type": "code",
   "execution_count": 4,
   "id": "a68c8500-0203-4824-af16-cb1d927c92eb",
   "metadata": {},
   "outputs": [
    {
     "name": "stdout",
     "output_type": "stream",
     "text": [
      "True False\n"
     ]
    }
   ],
   "source": [
    "# Bool\n",
    "## either returns True or False\n",
    "\n",
    "print(True,False)"
   ]
  },
  {
   "cell_type": "code",
   "execution_count": 5,
   "id": "cb5808c8-b805-4384-81b5-fc25ebc1d8c2",
   "metadata": {},
   "outputs": [
    {
     "data": {
      "text/plain": [
       "bool"
      ]
     },
     "execution_count": 5,
     "metadata": {},
     "output_type": "execute_result"
    }
   ],
   "source": [
    "type(True)"
   ]
  },
  {
   "cell_type": "code",
   "execution_count": 6,
   "id": "0f15aeff-b050-40e5-9382-95ba4857caa5",
   "metadata": {},
   "outputs": [
    {
     "data": {
      "text/plain": [
       "False"
      ]
     },
     "execution_count": 6,
     "metadata": {},
     "output_type": "execute_result"
    }
   ],
   "source": [
    "bool(0)"
   ]
  },
  {
   "cell_type": "code",
   "execution_count": 7,
   "id": "864c7d2a-9f7b-422b-bcd5-69c7e390c5d7",
   "metadata": {},
   "outputs": [
    {
     "data": {
      "text/plain": [
       "True"
      ]
     },
     "execution_count": 7,
     "metadata": {},
     "output_type": "execute_result"
    }
   ],
   "source": [
    "bool(1)"
   ]
  },
  {
   "cell_type": "code",
   "execution_count": 13,
   "id": "f6a253a5-89a4-46f4-b0f5-415e486b432e",
   "metadata": {},
   "outputs": [],
   "source": [
    "my_str = \"Anoop Singh\""
   ]
  },
  {
   "cell_type": "code",
   "execution_count": 18,
   "id": "5983a1b2-2d66-43c3-aac0-c745b88f3084",
   "metadata": {},
   "outputs": [
    {
     "name": "stdout",
     "output_type": "stream",
     "text": [
      "False\n",
      "False\n",
      "False\n",
      "True\n",
      "False\n",
      "False\n",
      "False\n",
      "True\n",
      "False\n"
     ]
    }
   ],
   "source": [
    "print(my_str.isalnum()) # check if all char are number\n",
    "print(my_str.isalpha()) # check if all char in string is alphabetic\n",
    "print(my_str.isdigit()) # check if string contains digit\n",
    "print(my_str.istitle()) # check if string contains title word\n",
    "print(my_str.isupper()) # check if string is upper case\n",
    "print(my_str.islower()) # check if string is lower case\n",
    "print(my_str.isspace()) # check if string contains space\n",
    "print(my_str.startswith('A')) #checks the starting of the string\n",
    "print(my_str.endswith('H')) #checks the ending of the string"
   ]
  },
  {
   "cell_type": "markdown",
   "id": "d2abcbf3-a25c-4974-93d3-2dde00063ca6",
   "metadata": {},
   "source": [
    "### Boolean and Logic operators"
   ]
  },
  {
   "cell_type": "code",
   "execution_count": 20,
   "id": "db8e6233-0722-4545-a5a5-568fab180289",
   "metadata": {},
   "outputs": [
    {
     "data": {
      "text/plain": [
       "True"
      ]
     },
     "execution_count": 20,
     "metadata": {},
     "output_type": "execute_result"
    }
   ],
   "source": [
    "True and True"
   ]
  },
  {
   "cell_type": "code",
   "execution_count": 21,
   "id": "a6871de8-8543-4641-b7c1-7b02fe804495",
   "metadata": {},
   "outputs": [
    {
     "data": {
      "text/plain": [
       "False"
      ]
     },
     "execution_count": 21,
     "metadata": {},
     "output_type": "execute_result"
    }
   ],
   "source": [
    "True and False"
   ]
  },
  {
   "cell_type": "code",
   "execution_count": 22,
   "id": "d005a4e2-d185-400b-bf11-cf000df1b33f",
   "metadata": {},
   "outputs": [
    {
     "data": {
      "text/plain": [
       "True"
      ]
     },
     "execution_count": 22,
     "metadata": {},
     "output_type": "execute_result"
    }
   ],
   "source": [
    "True or False"
   ]
  },
  {
   "cell_type": "code",
   "execution_count": 23,
   "id": "a3619054-e366-4c66-8fe0-98a4aa23870a",
   "metadata": {},
   "outputs": [],
   "source": [
    "str1=\"Hello Anoop\"\n",
    "str2=\"Welcome\""
   ]
  },
  {
   "cell_type": "code",
   "execution_count": 24,
   "id": "05b26024-3d84-4c4c-8204-ff6293dcd8e4",
   "metadata": {},
   "outputs": [
    {
     "data": {
      "text/plain": [
       "True"
      ]
     },
     "execution_count": 24,
     "metadata": {},
     "output_type": "execute_result"
    }
   ],
   "source": [
    "str1.isalpha() or str2.isalnum()"
   ]
  },
  {
   "cell_type": "markdown",
   "id": "b7ec9fe3-511a-4331-843f-f6720fa1474b",
   "metadata": {},
   "source": [
    "### Lists"
   ]
  },
  {
   "cell_type": "markdown",
   "id": "1d02c501-d8b4-4fd1-baa9-9a86d8ccba11",
   "metadata": {},
   "source": [
    "Python's list is a flexible, versatile, powerful, and popular built-in data type. \n",
    "It allows you to create variable-length and mutable sequences of objects. In a list,\n",
    "you can store objects of any type. You can also mix objects of different types within the same list,\n",
    "although list elements often share the same type. It is defined inside square brackets []"
   ]
  },
  {
   "cell_type": "code",
   "execution_count": 25,
   "id": "4daac968-782e-411b-9a19-a7fc0c45ad6b",
   "metadata": {},
   "outputs": [
    {
     "data": {
      "text/plain": [
       "list"
      ]
     },
     "execution_count": 25,
     "metadata": {},
     "output_type": "execute_result"
    }
   ],
   "source": [
    "type([])"
   ]
  },
  {
   "cell_type": "code",
   "execution_count": 26,
   "id": "ae6544a7-f413-426b-a9c4-2c7f0da59d4b",
   "metadata": {},
   "outputs": [],
   "source": [
    "my_lst = []"
   ]
  },
  {
   "cell_type": "code",
   "execution_count": 28,
   "id": "ea5615b7-9566-4d3b-a6f3-ab6cefc78881",
   "metadata": {},
   "outputs": [
    {
     "data": {
      "text/plain": [
       "list"
      ]
     },
     "execution_count": 28,
     "metadata": {},
     "output_type": "execute_result"
    }
   ],
   "source": [
    "type(my_lst)"
   ]
  },
  {
   "cell_type": "code",
   "execution_count": 29,
   "id": "882ac5be-eacd-40ec-a9c3-c7da3ac505d7",
   "metadata": {},
   "outputs": [],
   "source": [
    "lst=list()"
   ]
  },
  {
   "cell_type": "code",
   "execution_count": 30,
   "id": "425145eb-fcdb-4a02-a513-0de3cc7e5808",
   "metadata": {},
   "outputs": [
    {
     "data": {
      "text/plain": [
       "list"
      ]
     },
     "execution_count": 30,
     "metadata": {},
     "output_type": "execute_result"
    }
   ],
   "source": [
    "type(lst)"
   ]
  },
  {
   "cell_type": "code",
   "execution_count": 31,
   "id": "cb253781-e130-47ae-900a-04eb32b1b2a5",
   "metadata": {},
   "outputs": [],
   "source": [
    "lst=['Python','SQL',100,200]"
   ]
  },
  {
   "cell_type": "code",
   "execution_count": 32,
   "id": "d8ccd249-ff57-4852-9fc6-efafff9105ec",
   "metadata": {},
   "outputs": [
    {
     "name": "stdout",
     "output_type": "stream",
     "text": [
      "['Python', 'SQL', 100, 200]\n"
     ]
    }
   ],
   "source": [
    "print(lst)"
   ]
  },
  {
   "cell_type": "code",
   "execution_count": 33,
   "id": "280690f6-ccbf-48b6-8b50-bf948a87b944",
   "metadata": {},
   "outputs": [
    {
     "data": {
      "text/plain": [
       "4"
      ]
     },
     "execution_count": 33,
     "metadata": {},
     "output_type": "execute_result"
    }
   ],
   "source": [
    "len(lst)"
   ]
  },
  {
   "cell_type": "markdown",
   "id": "2026d6b0-98ae-49c8-8eb1-d35d90e731da",
   "metadata": {},
   "source": [
    "### Append\n",
    "\n",
    "The append() method appends an element to the end of the list."
   ]
  },
  {
   "cell_type": "code",
   "execution_count": 34,
   "id": "2050e8cf-0269-4abf-8659-ee1dca965bd7",
   "metadata": {},
   "outputs": [],
   "source": [
    "lst.append(\"ML\")"
   ]
  },
  {
   "cell_type": "code",
   "execution_count": 35,
   "id": "1d207b69-0572-49d2-aef0-422dd16d6f32",
   "metadata": {},
   "outputs": [
    {
     "name": "stdout",
     "output_type": "stream",
     "text": [
      "['Python', 'SQL', 100, 200, 'ML']\n"
     ]
    }
   ],
   "source": [
    "print(lst)"
   ]
  },
  {
   "cell_type": "code",
   "execution_count": 36,
   "id": "f06ae02e-1ef2-48f3-b228-b4e3351e6b94",
   "metadata": {},
   "outputs": [
    {
     "data": {
      "text/plain": [
       "'SQL'"
      ]
     },
     "execution_count": 36,
     "metadata": {},
     "output_type": "execute_result"
    }
   ],
   "source": [
    "## indexing in list\n",
    "\n",
    "## index starts from 0 to len-1 element in the list\n",
    "\n",
    "lst[1]"
   ]
  },
  {
   "cell_type": "code",
   "execution_count": 37,
   "id": "19286c28-c314-490e-95ad-ba896d4d337a",
   "metadata": {},
   "outputs": [
    {
     "data": {
      "text/plain": [
       "'ML'"
      ]
     },
     "execution_count": 37,
     "metadata": {},
     "output_type": "execute_result"
    }
   ],
   "source": [
    "lst[4]"
   ]
  },
  {
   "cell_type": "code",
   "execution_count": 38,
   "id": "4d1da220-3292-48be-a859-2ac244af0e3c",
   "metadata": {},
   "outputs": [
    {
     "data": {
      "text/plain": [
       "['Python', 'SQL', 100, 200, 'ML']"
      ]
     },
     "execution_count": 38,
     "metadata": {},
     "output_type": "execute_result"
    }
   ],
   "source": [
    "lst[:]"
   ]
  },
  {
   "cell_type": "code",
   "execution_count": 39,
   "id": "74962811-88c3-4570-98eb-fc02f954febc",
   "metadata": {},
   "outputs": [
    {
     "data": {
      "text/plain": [
       "['SQL', 100, 200, 'ML']"
      ]
     },
     "execution_count": 39,
     "metadata": {},
     "output_type": "execute_result"
    }
   ],
   "source": [
    "lst[1:]"
   ]
  },
  {
   "cell_type": "code",
   "execution_count": 40,
   "id": "17eda94b-460a-4275-8399-d1413683cff0",
   "metadata": {},
   "outputs": [
    {
     "data": {
      "text/plain": [
       "['SQL', 100]"
      ]
     },
     "execution_count": 40,
     "metadata": {},
     "output_type": "execute_result"
    }
   ],
   "source": [
    "lst[1:3]"
   ]
  },
  {
   "cell_type": "code",
   "execution_count": 41,
   "id": "59818ae0-b5d3-459f-a4ed-f7f847b0756f",
   "metadata": {},
   "outputs": [
    {
     "data": {
      "text/plain": [
       "['Python', 'SQL', 100, 200, 'ML']"
      ]
     },
     "execution_count": 41,
     "metadata": {},
     "output_type": "execute_result"
    }
   ],
   "source": [
    "lst"
   ]
  },
  {
   "cell_type": "code",
   "execution_count": 42,
   "id": "14a10f48-2a75-41ca-bf9e-aa604f0c9769",
   "metadata": {},
   "outputs": [],
   "source": [
    "lst.append(['AI',100])"
   ]
  },
  {
   "cell_type": "code",
   "execution_count": 43,
   "id": "1ee3fe3c-3d66-40e0-bbc1-a138e0cfce2e",
   "metadata": {},
   "outputs": [
    {
     "data": {
      "text/plain": [
       "['Python', 'SQL', 100, 200, 'ML', ['AI', 100]]"
      ]
     },
     "execution_count": 43,
     "metadata": {},
     "output_type": "execute_result"
    }
   ],
   "source": [
    "lst"
   ]
  },
  {
   "cell_type": "markdown",
   "id": "0693df4e-4c39-481a-b3fd-ec82b683ad44",
   "metadata": {},
   "source": [
    "### Insert\n",
    "\n",
    "The insert() in python is used to add items to the list at any specified position by the user."
   ]
  },
  {
   "cell_type": "code",
   "execution_count": 44,
   "id": "79ccf771-2abc-4112-b973-93701fe90b15",
   "metadata": {},
   "outputs": [
    {
     "data": {
      "text/plain": [
       "['Python', 'SQL', 100, 200, 'ML', ['AI', 100]]"
      ]
     },
     "execution_count": 44,
     "metadata": {},
     "output_type": "execute_result"
    }
   ],
   "source": [
    "lst"
   ]
  },
  {
   "cell_type": "code",
   "execution_count": 47,
   "id": "c4bda7af-9b6d-4cf0-b3e6-fd2578c6035d",
   "metadata": {},
   "outputs": [],
   "source": [
    "## insert accepts two parameters. 1 - postion and 2 - value\n",
    "\n",
    "lst.insert(5,90)"
   ]
  },
  {
   "cell_type": "code",
   "execution_count": 49,
   "id": "b84f6d4b-628e-40f7-9fa8-dfcf1b1aa94f",
   "metadata": {},
   "outputs": [
    {
     "data": {
      "text/plain": [
       "['Python', 'SQL', 100, 200, 'ML', 90, 90, ['AI', 100]]"
      ]
     },
     "execution_count": 49,
     "metadata": {},
     "output_type": "execute_result"
    }
   ],
   "source": [
    "lst"
   ]
  },
  {
   "cell_type": "markdown",
   "id": "ddd11a83-c830-49a7-847d-a38ce6b702b0",
   "metadata": {},
   "source": [
    "### Extend Method\n",
    "\n",
    " The Python extend() list function is used to add elements of an iterable (such as string, list, tuple, set, etc.) to the end of another list."
   ]
  },
  {
   "cell_type": "code",
   "execution_count": 50,
   "id": "a7f0770e-6acf-442e-aee7-73bab96cb05a",
   "metadata": {},
   "outputs": [],
   "source": [
    "my_lst = [10,20,30,40]"
   ]
  },
  {
   "cell_type": "code",
   "execution_count": 51,
   "id": "21dbee8e-84e0-4123-9871-5786720ef815",
   "metadata": {},
   "outputs": [
    {
     "data": {
      "text/plain": [
       "[10, 20, 30, 40]"
      ]
     },
     "execution_count": 51,
     "metadata": {},
     "output_type": "execute_result"
    }
   ],
   "source": [
    "my_lst"
   ]
  },
  {
   "cell_type": "code",
   "execution_count": 52,
   "id": "d6075cc2-b5c6-4965-8d20-dceeab109ab6",
   "metadata": {},
   "outputs": [],
   "source": [
    "my_lst.extend([50,60,70])"
   ]
  },
  {
   "cell_type": "code",
   "execution_count": 53,
   "id": "00d65168-a438-4746-af54-d8d2ee19b9aa",
   "metadata": {},
   "outputs": [
    {
     "data": {
      "text/plain": [
       "[10, 20, 30, 40, 50, 60, 70]"
      ]
     },
     "execution_count": 53,
     "metadata": {},
     "output_type": "execute_result"
    }
   ],
   "source": [
    "my_lst"
   ]
  },
  {
   "cell_type": "markdown",
   "id": "121666ad-aa0c-4b55-a979-f1f0f6cd2f27",
   "metadata": {},
   "source": [
    "### various operations we perform in list"
   ]
  },
  {
   "cell_type": "code",
   "execution_count": 55,
   "id": "b58ce432-42f0-416e-bafb-efdc6ef2bb45",
   "metadata": {},
   "outputs": [],
   "source": [
    "lst=[1,2,3,4,5]"
   ]
  },
  {
   "cell_type": "code",
   "execution_count": 66,
   "id": "e223c2ad-0152-4cb9-932e-1efa15631450",
   "metadata": {},
   "outputs": [
    {
     "data": {
      "text/plain": [
       "[1, 1, 2, 3, 55, 1, 1, 2, 3, 55]"
      ]
     },
     "execution_count": 66,
     "metadata": {},
     "output_type": "execute_result"
    }
   ],
   "source": [
    "lst*2"
   ]
  },
  {
   "cell_type": "code",
   "execution_count": 56,
   "id": "cb15357e-f30d-4fd2-b35d-616d63043332",
   "metadata": {},
   "outputs": [
    {
     "data": {
      "text/plain": [
       "15"
      ]
     },
     "execution_count": 56,
     "metadata": {},
     "output_type": "execute_result"
    }
   ],
   "source": [
    "sum(lst)"
   ]
  },
  {
   "cell_type": "code",
   "execution_count": 58,
   "id": "849840cb-23b5-4113-9201-fd8033472d1e",
   "metadata": {},
   "outputs": [
    {
     "data": {
      "text/plain": [
       "4"
      ]
     },
     "execution_count": 58,
     "metadata": {},
     "output_type": "execute_result"
    }
   ],
   "source": [
    "## pop() removes an element from the list, we can specify the postion or by default it will remove the last element from list.\n",
    "\n",
    "lst.pop()"
   ]
  },
  {
   "cell_type": "code",
   "execution_count": 59,
   "id": "cd4da0e6-b392-4931-b023-d99c2d1a6ac1",
   "metadata": {},
   "outputs": [
    {
     "data": {
      "text/plain": [
       "[1, 2, 3]"
      ]
     },
     "execution_count": 59,
     "metadata": {},
     "output_type": "execute_result"
    }
   ],
   "source": [
    "lst"
   ]
  },
  {
   "cell_type": "code",
   "execution_count": 60,
   "id": "2daceac9-f64b-4f0f-ace4-aeb966578e45",
   "metadata": {},
   "outputs": [
    {
     "data": {
      "text/plain": [
       "1"
      ]
     },
     "execution_count": 60,
     "metadata": {},
     "output_type": "execute_result"
    }
   ],
   "source": [
    "lst.pop(0)"
   ]
  },
  {
   "cell_type": "code",
   "execution_count": 61,
   "id": "99e78ccc-1083-43e8-a06c-7190c0e951ea",
   "metadata": {},
   "outputs": [
    {
     "data": {
      "text/plain": [
       "[2, 3]"
      ]
     },
     "execution_count": 61,
     "metadata": {},
     "output_type": "execute_result"
    }
   ],
   "source": [
    "lst"
   ]
  },
  {
   "cell_type": "markdown",
   "id": "91925748-0259-4b34-a2e7-732027a6ec94",
   "metadata": {},
   "source": [
    "### count()\n",
    "\n",
    "calculates the total occurance of the given element in the list"
   ]
  },
  {
   "cell_type": "code",
   "execution_count": 62,
   "id": "9bf89213-0f17-4421-b7c1-bc67a205bb26",
   "metadata": {},
   "outputs": [
    {
     "data": {
      "text/plain": [
       "2"
      ]
     },
     "execution_count": 62,
     "metadata": {},
     "output_type": "execute_result"
    }
   ],
   "source": [
    "lst=[1,1,2,3,55]\n",
    "lst.count(1)"
   ]
  },
  {
   "cell_type": "code",
   "execution_count": 63,
   "id": "9b30ea41-5cb5-4a68-8a8c-c23ec66a05c8",
   "metadata": {},
   "outputs": [
    {
     "data": {
      "text/plain": [
       "5"
      ]
     },
     "execution_count": 63,
     "metadata": {},
     "output_type": "execute_result"
    }
   ],
   "source": [
    "len(lst)"
   ]
  },
  {
   "cell_type": "markdown",
   "id": "28dbdd0b-a8eb-46f3-9308-b7c6fa055278",
   "metadata": {},
   "source": [
    "### index()\n",
    "\n",
    "The index() method returns the position at the first occurrence of the specified value."
   ]
  },
  {
   "cell_type": "code",
   "execution_count": 64,
   "id": "b0b32fce-d927-40ae-96f0-c7d84e4859f2",
   "metadata": {},
   "outputs": [
    {
     "data": {
      "text/plain": [
       "0"
      ]
     },
     "execution_count": 64,
     "metadata": {},
     "output_type": "execute_result"
    }
   ],
   "source": [
    "lst.index(1)"
   ]
  },
  {
   "cell_type": "code",
   "execution_count": 65,
   "id": "506a1a6d-456c-4cfb-a20a-f1d0d6153d34",
   "metadata": {},
   "outputs": [
    {
     "data": {
      "text/plain": [
       "1"
      ]
     },
     "execution_count": 65,
     "metadata": {},
     "output_type": "execute_result"
    }
   ],
   "source": [
    "lst.index(1,1)"
   ]
  }
 ],
 "metadata": {
  "kernelspec": {
   "display_name": "Python 3 (ipykernel)",
   "language": "python",
   "name": "python3"
  },
  "language_info": {
   "codemirror_mode": {
    "name": "ipython",
    "version": 3
   },
   "file_extension": ".py",
   "mimetype": "text/x-python",
   "name": "python",
   "nbconvert_exporter": "python",
   "pygments_lexer": "ipython3",
   "version": "3.12.3"
  }
 },
 "nbformat": 4,
 "nbformat_minor": 5
}
