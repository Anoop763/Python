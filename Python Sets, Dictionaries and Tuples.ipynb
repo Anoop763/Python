{
 "cells": [
  {
   "cell_type": "markdown",
   "id": "e8aac95b-6370-4389-981f-3f5b5a4a012f",
   "metadata": {},
   "source": [
    "### SETS\n",
    "\n",
    "Python Set is an unordered collection of data types that is iterable, mutable, and has no duplicate elements.\n",
    "The order of elements in a set is undefined though it may consist of various elements. This is based on a data structure known as hash table."
   ]
  },
  {
   "cell_type": "code",
   "execution_count": 2,
   "id": "21e0c01f-aa0e-46a8-9643-75b5003626c1",
   "metadata": {},
   "outputs": [
    {
     "name": "stdout",
     "output_type": "stream",
     "text": [
      "set()\n",
      "<class 'set'>\n"
     ]
    }
   ],
   "source": [
    "## Defining an empty set\n",
    "\n",
    "var_set = set()\n",
    "\n",
    "print(var_set)\n",
    "print(type(var_set))"
   ]
  },
  {
   "cell_type": "code",
   "execution_count": 6,
   "id": "181e00b3-1454-4af3-8dae-c72a68a3c25b",
   "metadata": {},
   "outputs": [],
   "source": [
    "var_set = {1,2,3,4,5,5,6}"
   ]
  },
  {
   "cell_type": "code",
   "execution_count": 7,
   "id": "d14f89ff-23a4-4bea-b960-c3dc3e2af0b9",
   "metadata": {},
   "outputs": [
    {
     "data": {
      "text/plain": [
       "{1, 2, 3, 4, 5, 6}"
      ]
     },
     "execution_count": 7,
     "metadata": {},
     "output_type": "execute_result"
    }
   ],
   "source": [
    "var_set"
   ]
  },
  {
   "cell_type": "code",
   "execution_count": 8,
   "id": "5ae70f9d-53ee-45ca-8d15-66dec0871c0f",
   "metadata": {},
   "outputs": [
    {
     "ename": "AttributeError",
     "evalue": "'set' object has no attribute 'index'",
     "output_type": "error",
     "traceback": [
      "\u001b[1;31m---------------------------------------------------------------------------\u001b[0m",
      "\u001b[1;31mAttributeError\u001b[0m                            Traceback (most recent call last)",
      "Cell \u001b[1;32mIn[8], line 1\u001b[0m\n\u001b[1;32m----> 1\u001b[0m \u001b[43mvar_set\u001b[49m\u001b[38;5;241;43m.\u001b[39;49m\u001b[43mindex\u001b[49m(\u001b[38;5;241m1\u001b[39m)\n",
      "\u001b[1;31mAttributeError\u001b[0m: 'set' object has no attribute 'index'"
     ]
    }
   ],
   "source": [
    "## sets does not support indexing\n",
    "\n",
    "var_set.index(1)"
   ]
  },
  {
   "cell_type": "markdown",
   "id": "dd15677a-fb5c-44c6-936a-4448f7d6c7a6",
   "metadata": {},
   "source": [
    "### Inbuilt functions in sets"
   ]
  },
  {
   "cell_type": "code",
   "execution_count": 9,
   "id": "9f9332f7-e691-4ac0-9ee9-42e7210c1c98",
   "metadata": {},
   "outputs": [],
   "source": [
    "## add()\n",
    "\n",
    "var_set.add(\"python\")"
   ]
  },
  {
   "cell_type": "code",
   "execution_count": 10,
   "id": "00f89ff5-e914-4c17-975b-ad7126a38920",
   "metadata": {},
   "outputs": [
    {
     "data": {
      "text/plain": [
       "{1, 2, 3, 4, 5, 6, 'python'}"
      ]
     },
     "execution_count": 10,
     "metadata": {},
     "output_type": "execute_result"
    }
   ],
   "source": [
    "var_set"
   ]
  },
  {
   "cell_type": "code",
   "execution_count": 17,
   "id": "05d7ffd6-db31-4dbc-96ed-90a3b920f34c",
   "metadata": {},
   "outputs": [],
   "source": [
    "set1={1,2,3,4,5}\n",
    "set2={1,2,3,6}"
   ]
  },
  {
   "cell_type": "code",
   "execution_count": 18,
   "id": "fcb2b654-c248-45b2-affe-a7836b74ff51",
   "metadata": {},
   "outputs": [
    {
     "data": {
      "text/plain": [
       "{6}"
      ]
     },
     "execution_count": 18,
     "metadata": {},
     "output_type": "execute_result"
    }
   ],
   "source": [
    "## difference()\n",
    "\n",
    "set2.difference(set1)"
   ]
  },
  {
   "cell_type": "code",
   "execution_count": 19,
   "id": "6e67c400-826f-46c5-b276-151df0490e88",
   "metadata": {},
   "outputs": [
    {
     "data": {
      "text/plain": [
       "{1, 2, 3, 6}"
      ]
     },
     "execution_count": 19,
     "metadata": {},
     "output_type": "execute_result"
    }
   ],
   "source": [
    "set2"
   ]
  },
  {
   "cell_type": "code",
   "execution_count": 21,
   "id": "fb380ecc-d3b2-4607-a874-02ea85c462b8",
   "metadata": {},
   "outputs": [],
   "source": [
    "## difference update()\n",
    "\n",
    "set2.difference_update(set1)"
   ]
  },
  {
   "cell_type": "code",
   "execution_count": 22,
   "id": "d43b29b6-2b0a-4ea8-8ed3-98697098fd50",
   "metadata": {},
   "outputs": [
    {
     "data": {
      "text/plain": [
       "{6}"
      ]
     },
     "execution_count": 22,
     "metadata": {},
     "output_type": "execute_result"
    }
   ],
   "source": [
    "set2"
   ]
  },
  {
   "cell_type": "code",
   "execution_count": 23,
   "id": "65ee34d9-966f-44ce-afa8-95af8cffa653",
   "metadata": {},
   "outputs": [],
   "source": [
    "set1={1,2,3,4,5}\n",
    "set2={1,2,3,6}"
   ]
  },
  {
   "cell_type": "code",
   "execution_count": 25,
   "id": "2cd705c3-b1fd-49e9-bec5-910bb441f561",
   "metadata": {},
   "outputs": [
    {
     "data": {
      "text/plain": [
       "{1, 2, 3}"
      ]
     },
     "execution_count": 25,
     "metadata": {},
     "output_type": "execute_result"
    }
   ],
   "source": [
    "## intersection()\n",
    "\n",
    "set2.intersection(set1)"
   ]
  },
  {
   "cell_type": "code",
   "execution_count": 30,
   "id": "2b879b04-f549-4b37-85ef-b9ec644fb4c3",
   "metadata": {},
   "outputs": [],
   "source": [
    "## intersection update\n",
    "\n",
    "set2.intersection_update(set1)"
   ]
  },
  {
   "cell_type": "code",
   "execution_count": 31,
   "id": "35f2eca4-b3ae-4e96-892d-642bf048033b",
   "metadata": {},
   "outputs": [
    {
     "data": {
      "text/plain": [
       "{1, 2, 3}"
      ]
     },
     "execution_count": 31,
     "metadata": {},
     "output_type": "execute_result"
    }
   ],
   "source": [
    "set2"
   ]
  },
  {
   "cell_type": "markdown",
   "id": "71365f73-b7ab-44c9-a167-85e69000a0b9",
   "metadata": {},
   "source": [
    "### Dictionary\n",
    "\n",
    "Dictionaries are used to store data values in key:value pairs. A dictionary is a collection which is ordered*,\n",
    "changeable and do not allow duplicates. it's written in {}"
   ]
  },
  {
   "cell_type": "code",
   "execution_count": 32,
   "id": "174896bb-0343-415a-86ff-9de91629eb57",
   "metadata": {},
   "outputs": [],
   "source": [
    "dic={}"
   ]
  },
  {
   "cell_type": "code",
   "execution_count": 33,
   "id": "f6b37543-ecbb-4a69-bd80-5c68cf3106e3",
   "metadata": {},
   "outputs": [
    {
     "data": {
      "text/plain": [
       "dict"
      ]
     },
     "execution_count": 33,
     "metadata": {},
     "output_type": "execute_result"
    }
   ],
   "source": [
    "type(dic)"
   ]
  },
  {
   "cell_type": "code",
   "execution_count": 34,
   "id": "81c7716c-7797-460f-89f0-2e77ce3ded64",
   "metadata": {},
   "outputs": [],
   "source": [
    "dic={1,2,3,4,5}"
   ]
  },
  {
   "cell_type": "code",
   "execution_count": 35,
   "id": "8dc06313-1ef0-4b9b-bf8f-40c07f5c0d6d",
   "metadata": {},
   "outputs": [
    {
     "data": {
      "text/plain": [
       "set"
      ]
     },
     "execution_count": 35,
     "metadata": {},
     "output_type": "execute_result"
    }
   ],
   "source": [
    "type(dic)"
   ]
  },
  {
   "cell_type": "code",
   "execution_count": 38,
   "id": "61123b1d-df55-47c6-9301-ba0ddaefb545",
   "metadata": {},
   "outputs": [],
   "source": [
    "## let's create a dictionary\n",
    "\n",
    "dic={\"car1\":\"BMW\",\"car2\":\"Audi\",\"car3\":\"TaTa\"}"
   ]
  },
  {
   "cell_type": "code",
   "execution_count": 39,
   "id": "c0c9149b-d640-43ff-8a5e-78a8557a5fd3",
   "metadata": {},
   "outputs": [
    {
     "data": {
      "text/plain": [
       "dict"
      ]
     },
     "execution_count": 39,
     "metadata": {},
     "output_type": "execute_result"
    }
   ],
   "source": [
    "type(dic)"
   ]
  },
  {
   "cell_type": "code",
   "execution_count": 41,
   "id": "9620af76-6170-4e2e-81e7-b1ab0c5beca0",
   "metadata": {},
   "outputs": [
    {
     "data": {
      "text/plain": [
       "'BMW'"
      ]
     },
     "execution_count": 41,
     "metadata": {},
     "output_type": "execute_result"
    }
   ],
   "source": [
    "## Access the item values based on keys\n",
    "\n",
    "dic['car1']"
   ]
  },
  {
   "cell_type": "code",
   "execution_count": 43,
   "id": "3cae9083-ddac-4ace-8033-760b3cb012d5",
   "metadata": {},
   "outputs": [
    {
     "name": "stdout",
     "output_type": "stream",
     "text": [
      "car1\n",
      "car2\n",
      "car3\n"
     ]
    }
   ],
   "source": [
    "## we can even loop through the dictionary keys\n",
    "\n",
    "for x in dic:\n",
    "    print(x)"
   ]
  },
  {
   "cell_type": "code",
   "execution_count": 44,
   "id": "e49d2c0b-2f21-4e9b-b307-5fdbb1ae458d",
   "metadata": {},
   "outputs": [
    {
     "name": "stdout",
     "output_type": "stream",
     "text": [
      "BMW\n",
      "Audi\n",
      "TaTa\n"
     ]
    }
   ],
   "source": [
    "## we can even loop through the dictionary values\n",
    "\n",
    "for x in dic.values():\n",
    "    print(x)"
   ]
  },
  {
   "cell_type": "code",
   "execution_count": 45,
   "id": "41d80577-f567-4a0f-ac4e-6ccd326fa871",
   "metadata": {},
   "outputs": [
    {
     "name": "stdout",
     "output_type": "stream",
     "text": [
      "('car1', 'BMW')\n",
      "('car2', 'Audi')\n",
      "('car3', 'TaTa')\n"
     ]
    }
   ],
   "source": [
    "## we can even loop through both dictionary keys and values\n",
    "\n",
    "for x in dic.items():\n",
    "    print(x)"
   ]
  },
  {
   "cell_type": "code",
   "execution_count": 46,
   "id": "b60b357a-d27b-411a-bedb-6c2ecace2ac6",
   "metadata": {},
   "outputs": [],
   "source": [
    "## Adding items in dictionary\n",
    "\n",
    "dic['car4']=\"Benz\""
   ]
  },
  {
   "cell_type": "code",
   "execution_count": 47,
   "id": "13546cdb-b1da-49df-b795-49a4a07cd297",
   "metadata": {},
   "outputs": [
    {
     "data": {
      "text/plain": [
       "{'car1': 'BMW', 'car2': 'Audi', 'car3': 'TaTa', 'car4': 'Benz'}"
      ]
     },
     "execution_count": 47,
     "metadata": {},
     "output_type": "execute_result"
    }
   ],
   "source": [
    "dic"
   ]
  },
  {
   "cell_type": "code",
   "execution_count": 50,
   "id": "6bc08bb4-2fb1-4fe8-8a50-84c9596c3242",
   "metadata": {},
   "outputs": [],
   "source": [
    "## updating value for a key in dict\n",
    "\n",
    "dic['car1']=\"Mahindra\""
   ]
  },
  {
   "cell_type": "code",
   "execution_count": 51,
   "id": "842f95ac-e03d-4859-80cf-87e6289eb09d",
   "metadata": {},
   "outputs": [
    {
     "data": {
      "text/plain": [
       "{'car1': 'Mahindra', 'car2': 'Audi', 'car3': 'TaTa', 'car4': 'Benz'}"
      ]
     },
     "execution_count": 51,
     "metadata": {},
     "output_type": "execute_result"
    }
   ],
   "source": [
    "dic"
   ]
  },
  {
   "cell_type": "markdown",
   "id": "fe197dd2-d9d8-422c-a1f8-633abd2d0114",
   "metadata": {},
   "source": [
    "### Nested Dictionary"
   ]
  },
  {
   "cell_type": "code",
   "execution_count": 58,
   "id": "8a5efad7-d414-4a70-ba53-e0b5f619b951",
   "metadata": {},
   "outputs": [],
   "source": [
    "car1_Mod = {'Audi':1990}\n",
    "car2_Mod = {'Benz':2003}\n",
    "car3_Mod = {'lambo':2005}"
   ]
  },
  {
   "cell_type": "code",
   "execution_count": 59,
   "id": "00529249-ae70-43e1-98e9-2d69c069d087",
   "metadata": {},
   "outputs": [],
   "source": [
    "dic = {'car1':car1_Mod,'car2':car2_Mod,'car3':car3_Mod}"
   ]
  },
  {
   "cell_type": "code",
   "execution_count": 60,
   "id": "bca42520-5372-405c-b191-624f8b58f243",
   "metadata": {},
   "outputs": [
    {
     "data": {
      "text/plain": [
       "{'car1': {'Audi': 1990}, 'car2': {'Benz': 2003}, 'car3': {'lambo': 2005}}"
      ]
     },
     "execution_count": 60,
     "metadata": {},
     "output_type": "execute_result"
    }
   ],
   "source": [
    "dic"
   ]
  },
  {
   "cell_type": "code",
   "execution_count": 61,
   "id": "9f72aa54-e879-488d-95b6-28f1689d3c2b",
   "metadata": {},
   "outputs": [
    {
     "data": {
      "text/plain": [
       "{'Audi': 1990}"
      ]
     },
     "execution_count": 61,
     "metadata": {},
     "output_type": "execute_result"
    }
   ],
   "source": [
    "## Accessing the items in the dictionary\n",
    "\n",
    "dic['car1']"
   ]
  },
  {
   "cell_type": "code",
   "execution_count": 62,
   "id": "9d38ae64-5572-46ae-996f-ccbf8e90d1ba",
   "metadata": {},
   "outputs": [
    {
     "data": {
      "text/plain": [
       "1990"
      ]
     },
     "execution_count": 62,
     "metadata": {},
     "output_type": "execute_result"
    }
   ],
   "source": [
    "dic['car1']['Audi']"
   ]
  },
  {
   "cell_type": "markdown",
   "id": "f90a0d26-6195-43b4-bd84-b9b34e8dc75d",
   "metadata": {},
   "source": [
    "### Tuple\n",
    "\n",
    "Python Tuple is a collection of objects separated by commas.\n",
    "In some ways, a tuple is similar to a Python list in terms of indexing, nested objects,\n",
    "and repetition but the main difference between both is Python tuple is immutable, unlike the Python list which is mutable."
   ]
  },
  {
   "cell_type": "code",
   "execution_count": 63,
   "id": "8cdcc82e-6d67-407c-966e-c8ea44118216",
   "metadata": {},
   "outputs": [],
   "source": [
    "## Once we define the Tuple we cannot change the elements of tuple.\n",
    "## create an empty tuple\n",
    "\n",
    "my_tuple = tuple()"
   ]
  },
  {
   "cell_type": "code",
   "execution_count": 64,
   "id": "4f34ac3c-feb8-4eee-8f3f-d9a2fb69cddd",
   "metadata": {},
   "outputs": [
    {
     "data": {
      "text/plain": [
       "tuple"
      ]
     },
     "execution_count": 64,
     "metadata": {},
     "output_type": "execute_result"
    }
   ],
   "source": [
    "type(my_tuple)"
   ]
  },
  {
   "cell_type": "code",
   "execution_count": 65,
   "id": "4c765a4c-a970-4b17-a132-45e24403bb6e",
   "metadata": {},
   "outputs": [
    {
     "data": {
      "text/plain": [
       "()"
      ]
     },
     "execution_count": 65,
     "metadata": {},
     "output_type": "execute_result"
    }
   ],
   "source": [
    "my_tuple"
   ]
  },
  {
   "cell_type": "code",
   "execution_count": 66,
   "id": "454d000a-a247-418b-bb13-813d30147f8f",
   "metadata": {},
   "outputs": [],
   "source": [
    "my_tuple = (\"Anoop\",'Priya','Ankith')"
   ]
  },
  {
   "cell_type": "code",
   "execution_count": 67,
   "id": "1ffc8b64-cfe9-47f8-84eb-2d820fd72e07",
   "metadata": {},
   "outputs": [
    {
     "data": {
      "text/plain": [
       "('Anoop', 'Priya', 'Ankith')"
      ]
     },
     "execution_count": 67,
     "metadata": {},
     "output_type": "execute_result"
    }
   ],
   "source": [
    "my_tuple"
   ]
  },
  {
   "cell_type": "code",
   "execution_count": 68,
   "id": "16b3445a-098d-43ea-b4e2-7b5ff2ff2949",
   "metadata": {},
   "outputs": [
    {
     "data": {
      "text/plain": [
       "'Anoop'"
      ]
     },
     "execution_count": 68,
     "metadata": {},
     "output_type": "execute_result"
    }
   ],
   "source": [
    "my_tuple[0]"
   ]
  },
  {
   "cell_type": "code",
   "execution_count": 69,
   "id": "e5069780-43a9-4a7d-ad3b-2f3770134106",
   "metadata": {},
   "outputs": [
    {
     "data": {
      "text/plain": [
       "1"
      ]
     },
     "execution_count": 69,
     "metadata": {},
     "output_type": "execute_result"
    }
   ],
   "source": [
    "my_tuple.count('Priya')"
   ]
  },
  {
   "cell_type": "code",
   "execution_count": 70,
   "id": "bfa29f97-e5e4-4d37-bffb-b54ae36724fd",
   "metadata": {},
   "outputs": [
    {
     "data": {
      "text/plain": [
       "2"
      ]
     },
     "execution_count": 70,
     "metadata": {},
     "output_type": "execute_result"
    }
   ],
   "source": [
    "my_tuple.index('Ankith')"
   ]
  },
  {
   "cell_type": "code",
   "execution_count": null,
   "id": "5c879307-e6ae-4763-b054-d519695d4fc0",
   "metadata": {},
   "outputs": [],
   "source": []
  }
 ],
 "metadata": {
  "kernelspec": {
   "display_name": "Python 3 (ipykernel)",
   "language": "python",
   "name": "python3"
  },
  "language_info": {
   "codemirror_mode": {
    "name": "ipython",
    "version": 3
   },
   "file_extension": ".py",
   "mimetype": "text/x-python",
   "name": "python",
   "nbconvert_exporter": "python",
   "pygments_lexer": "ipython3",
   "version": "3.12.3"
  }
 },
 "nbformat": 4,
 "nbformat_minor": 5
}
