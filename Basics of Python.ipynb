{
 "cells": [
  {
   "cell_type": "markdown",
   "id": "9ddc0af6-93db-4601-aae7-252efaab0de2",
   "metadata": {},
   "source": [
    "# Learning Python\n",
    "\n",
    "## 100 days challenge\n",
    "\n",
    "- DataTypes"
   ]
  },
  {
   "cell_type": "code",
   "execution_count": 2,
   "id": "6834c9ce-eaea-42ae-9609-3eee231bd8b8",
   "metadata": {},
   "outputs": [
    {
     "data": {
      "text/plain": [
       "2"
      ]
     },
     "execution_count": 2,
     "metadata": {},
     "output_type": "execute_result"
    }
   ],
   "source": [
    "1+1"
   ]
  },
  {
   "cell_type": "code",
   "execution_count": 3,
   "id": "2cf36d91-589c-4377-af3b-4c10e1079458",
   "metadata": {},
   "outputs": [
    {
     "data": {
      "text/plain": [
       "10"
      ]
     },
     "execution_count": 3,
     "metadata": {},
     "output_type": "execute_result"
    }
   ],
   "source": [
    "5*2"
   ]
  },
  {
   "cell_type": "code",
   "execution_count": 4,
   "id": "8f9b3644-a3e9-4a78-b5ff-4a11f59bb951",
   "metadata": {},
   "outputs": [
    {
     "data": {
      "text/plain": [
       "0"
      ]
     },
     "execution_count": 4,
     "metadata": {},
     "output_type": "execute_result"
    }
   ],
   "source": [
    "100%2"
   ]
  },
  {
   "cell_type": "code",
   "execution_count": 5,
   "id": "e6de6df2-8804-445a-b293-4671ca8cfeb8",
   "metadata": {},
   "outputs": [
    {
     "data": {
      "text/plain": [
       "10000"
      ]
     },
     "execution_count": 5,
     "metadata": {},
     "output_type": "execute_result"
    }
   ],
   "source": [
    "100**2"
   ]
  },
  {
   "cell_type": "code",
   "execution_count": 6,
   "id": "cdaf0214-1986-411c-a290-d164eea65fc0",
   "metadata": {},
   "outputs": [
    {
     "data": {
      "text/plain": [
       "'strstrstrstrstr'"
      ]
     },
     "execution_count": 6,
     "metadata": {},
     "output_type": "execute_result"
    }
   ],
   "source": [
    "5 * 'str'"
   ]
  },
  {
   "cell_type": "code",
   "execution_count": 7,
   "id": "6b1551a9-d247-41df-93db-df4bd8eb02a2",
   "metadata": {},
   "outputs": [
    {
     "data": {
      "text/plain": [
       "5.0"
      ]
     },
     "execution_count": 7,
     "metadata": {},
     "output_type": "execute_result"
    }
   ],
   "source": [
    "10/2"
   ]
  },
  {
   "cell_type": "code",
   "execution_count": 8,
   "id": "25fee5ec-bf6c-4b41-a3d9-88838ee8f182",
   "metadata": {},
   "outputs": [],
   "source": [
    "## check the data type"
   ]
  },
  {
   "cell_type": "code",
   "execution_count": 9,
   "id": "72de10c2-2300-481d-868b-6006fb420612",
   "metadata": {},
   "outputs": [
    {
     "data": {
      "text/plain": [
       "int"
      ]
     },
     "execution_count": 9,
     "metadata": {},
     "output_type": "execute_result"
    }
   ],
   "source": [
    "type(1)"
   ]
  },
  {
   "cell_type": "code",
   "execution_count": 10,
   "id": "b60db84f-8198-419d-a80f-27d2310cdd0a",
   "metadata": {},
   "outputs": [
    {
     "data": {
      "text/plain": [
       "str"
      ]
     },
     "execution_count": 10,
     "metadata": {},
     "output_type": "execute_result"
    }
   ],
   "source": [
    "type('Anoop')"
   ]
  },
  {
   "cell_type": "code",
   "execution_count": 11,
   "id": "a170e7fa-99a2-4db7-882b-9f82589af17d",
   "metadata": {},
   "outputs": [
    {
     "data": {
      "text/plain": [
       "float"
      ]
     },
     "execution_count": 11,
     "metadata": {},
     "output_type": "execute_result"
    }
   ],
   "source": [
    "type(2.0)"
   ]
  },
  {
   "cell_type": "code",
   "execution_count": 12,
   "id": "88d82675-036c-486b-bb1f-d6bdb7725654",
   "metadata": {},
   "outputs": [
    {
     "data": {
      "text/plain": [
       "bool"
      ]
     },
     "execution_count": 12,
     "metadata": {},
     "output_type": "execute_result"
    }
   ],
   "source": [
    "type(True)"
   ]
  },
  {
   "cell_type": "markdown",
   "id": "603c0230-9ccd-47c8-9214-312b5c00ddfa",
   "metadata": {},
   "source": [
    "### Strings"
   ]
  },
  {
   "cell_type": "code",
   "execution_count": 13,
   "id": "92cf77a2-b473-4cae-b29d-407d80b4cf63",
   "metadata": {},
   "outputs": [
    {
     "data": {
      "text/plain": [
       "'Hello'"
      ]
     },
     "execution_count": 13,
     "metadata": {},
     "output_type": "execute_result"
    }
   ],
   "source": [
    "\"Hello\""
   ]
  },
  {
   "cell_type": "code",
   "execution_count": 14,
   "id": "f198ed06-7269-4bd7-8d3c-5fc8dffb864b",
   "metadata": {},
   "outputs": [
    {
     "data": {
      "text/plain": [
       "'Hello'"
      ]
     },
     "execution_count": 14,
     "metadata": {},
     "output_type": "execute_result"
    }
   ],
   "source": [
    "'Hello'"
   ]
  },
  {
   "cell_type": "code",
   "execution_count": 15,
   "id": "83edc1b7-0c08-4f77-aa5d-f4d9eab34dc8",
   "metadata": {},
   "outputs": [
    {
     "data": {
      "text/plain": [
       "str"
      ]
     },
     "execution_count": 15,
     "metadata": {},
     "output_type": "execute_result"
    }
   ],
   "source": [
    "type(\"Hello\")"
   ]
  },
  {
   "cell_type": "markdown",
   "id": "2cdadc50-827b-46e1-9197-645a3a0abe96",
   "metadata": {},
   "source": [
    "### Variable Assignment"
   ]
  },
  {
   "cell_type": "code",
   "execution_count": 16,
   "id": "dc958d94-6b5c-4943-99e2-b8853beb48bb",
   "metadata": {},
   "outputs": [],
   "source": [
    "# Syntax\n",
    "# variable_Name = Value\n",
    "\n",
    "a=10"
   ]
  },
  {
   "cell_type": "code",
   "execution_count": 17,
   "id": "57be2cd3-1d4b-4236-90bc-2e6103c64e6f",
   "metadata": {},
   "outputs": [
    {
     "data": {
      "text/plain": [
       "int"
      ]
     },
     "execution_count": 17,
     "metadata": {},
     "output_type": "execute_result"
    }
   ],
   "source": [
    "type(a)"
   ]
  },
  {
   "cell_type": "code",
   "execution_count": 18,
   "id": "02ed5531-fcd0-4917-94fa-2cf7601f76f0",
   "metadata": {},
   "outputs": [],
   "source": [
    "a=\"Anoop singh\""
   ]
  },
  {
   "cell_type": "code",
   "execution_count": 19,
   "id": "1bb79272-9102-41fa-ae3b-195168bdda73",
   "metadata": {},
   "outputs": [
    {
     "data": {
      "text/plain": [
       "str"
      ]
     },
     "execution_count": 19,
     "metadata": {},
     "output_type": "execute_result"
    }
   ],
   "source": [
    "type(a)"
   ]
  },
  {
   "cell_type": "code",
   "execution_count": 20,
   "id": "4fbd98e7-3ed0-4bf3-b23f-b4fec0a5c97d",
   "metadata": {},
   "outputs": [],
   "source": [
    "## Mathematical operations with variable assignment\n",
    "\n",
    "a=10\n",
    "b=20"
   ]
  },
  {
   "cell_type": "code",
   "execution_count": 23,
   "id": "26ce9b25-3dd5-4f70-8520-b5749e0b0e60",
   "metadata": {},
   "outputs": [
    {
     "name": "stdout",
     "output_type": "stream",
     "text": [
      "200\n",
      "30\n",
      "10\n",
      "0.5\n",
      "-300\n"
     ]
    }
   ],
   "source": [
    "print(a*b)\n",
    "print(a+b)\n",
    "print(a%b)\n",
    "print(a/b)\n",
    "print((a+b)*(a-b)) #BODMAS -- bracket,of,division,multiplication,add,sub"
   ]
  },
  {
   "cell_type": "code",
   "execution_count": 24,
   "id": "c5e2035a-044a-4e7d-bd73-e63bf1ef4097",
   "metadata": {},
   "outputs": [
    {
     "name": "stdout",
     "output_type": "stream",
     "text": [
      "Hello\n"
     ]
    }
   ],
   "source": [
    "## various ways of printing\n",
    "\n",
    "print(\"Hello\")"
   ]
  },
  {
   "cell_type": "code",
   "execution_count": 32,
   "id": "a0ec14b9-f98b-41d0-8c02-adca442f39c5",
   "metadata": {},
   "outputs": [],
   "source": [
    "First_Name = \"Anoop\"\n",
    "Last_Name = 'Singh'"
   ]
  },
  {
   "cell_type": "code",
   "execution_count": 33,
   "id": "190a1e2c-70aa-4a99-9e85-f988f0abfdac",
   "metadata": {},
   "outputs": [
    {
     "name": "stdout",
     "output_type": "stream",
     "text": [
      "My First Name is Anoop and My Last Name is Singh\n"
     ]
    }
   ],
   "source": [
    "print(\"My First Name is {} and My Last Name is {}\".format(First_Name,Last_Name))"
   ]
  },
  {
   "cell_type": "code",
   "execution_count": 35,
   "id": "c8c49334-6f00-498e-9e83-fe2cfaf58ddf",
   "metadata": {},
   "outputs": [
    {
     "name": "stdout",
     "output_type": "stream",
     "text": [
      "My First Name is Anoop and My Last Name is Singh\n"
     ]
    }
   ],
   "source": [
    "print(\"My First Name is {first} and My Last Name is {last}\".format(last=Last_Name,first=First_Name))"
   ]
  },
  {
   "cell_type": "code",
   "execution_count": 36,
   "id": "86dd6c77-f7a0-4fe8-972a-7cabe455e082",
   "metadata": {},
   "outputs": [
    {
     "data": {
      "text/plain": [
       "5"
      ]
     },
     "execution_count": 36,
     "metadata": {},
     "output_type": "execute_result"
    }
   ],
   "source": [
    "len('Anoop')"
   ]
  },
  {
   "cell_type": "code",
   "execution_count": 37,
   "id": "da3ec0ed-fc45-438e-bbba-449a77b9c43a",
   "metadata": {},
   "outputs": [
    {
     "data": {
      "text/plain": [
       "list"
      ]
     },
     "execution_count": 37,
     "metadata": {},
     "output_type": "execute_result"
    }
   ],
   "source": [
    "type(['1',2,3,4,5])"
   ]
  },
  {
   "cell_type": "code",
   "execution_count": null,
   "id": "4a2eb823-567d-469c-a77e-328cbce14c60",
   "metadata": {},
   "outputs": [],
   "source": []
  }
 ],
 "metadata": {
  "kernelspec": {
   "display_name": "Python 3 (ipykernel)",
   "language": "python",
   "name": "python3"
  },
  "language_info": {
   "codemirror_mode": {
    "name": "ipython",
    "version": 3
   },
   "file_extension": ".py",
   "mimetype": "text/x-python",
   "name": "python",
   "nbconvert_exporter": "python",
   "pygments_lexer": "ipython3",
   "version": "3.12.3"
  }
 },
 "nbformat": 4,
 "nbformat_minor": 5
}
